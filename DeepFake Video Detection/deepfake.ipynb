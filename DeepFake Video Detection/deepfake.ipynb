{
 "cells": [
  {
   "cell_type": "code",
   "execution_count": 19,
   "metadata": {},
   "outputs": [],
   "source": [
    "import cv2\n",
    "import os\n",
    "from facenet_pytorch import MTCNN\n",
    "from PIL import Image"
   ]
  },
  {
   "cell_type": "code",
   "execution_count": 13,
   "metadata": {},
   "outputs": [],
   "source": [
    "def file_path(fake_folder, original_folder):\n",
    "    fake_videos = [fake_folder+'/'+ f for f in os.listdir(fake_folder) if f.endswith(('.mp4', '.avi'))]\n",
    "    original_videos = [original_folder+'/'+ f for f in os.listdir(original_folder) if f.endswith(('.mp4', '.avi'))]\n",
    "    \n",
    "    video_paths = fake_videos + original_videos\n",
    "    labels = [1] * len(fake_videos) + [0] * len(original_videos)\n",
    "\n",
    "    return video_paths, labels"
   ]
  },
  {
   "cell_type": "code",
   "execution_count": 14,
   "metadata": {},
   "outputs": [],
   "source": [
    "fake_folder = \"archive/DFD_manipulated_sequences\"\n",
    "original_folder = \"archive/DFD_original sequences\"\n",
    "video_paths, labels = file_path(fake_folder, original_folder)"
   ]
  },
  {
   "cell_type": "code",
   "execution_count": null,
   "metadata": {},
   "outputs": [
    {
     "data": {
      "text/plain": [
       "3431"
      ]
     },
     "execution_count": 15,
     "metadata": {},
     "output_type": "execute_result"
    }
   ],
   "source": [
    "def extract_frames(video_path, sample_rate=10):\n",
    "\n",
    "    \"\"\"Extracting frames from a video at a given sample rate\"\"\"\n",
    "\n",
    "    vid = cv2.VideoCapture(video_path)\n",
    "    frames = []\n",
    "    count = 0\n",
    "    while vid.isOpened():\n",
    "        ret, frame = vid.read()\n",
    "        if not ret: \n",
    "            break\n",
    "        \n",
    "        if count % sample_rate == 0:\n",
    "            frames.append(frame)\n",
    "        \n",
    "        count += 1\n",
    "    \n",
    "    vid.release()\n",
    "    return frames\n",
    "\n",
    "def crop_faces(frames):\n",
    "\n",
    "    cropped_faces = []\n",
    "    for frame in frames:\n",
    "        frame_rgb = cv2.cvtColor(frame, cv2.COLOR_BGR2RGB)\n",
    "        boxes, _ = mtcnn.detect(frame_rgb)\n",
    "        if boxes:\n",
    "            for box in boxes:\n",
    "                x1, y1, x2, y2 = [int(coord) for coord in box]\n",
    "                face = frame_rgb[y1:y2, x1:x2]\n",
    "                cropped_faces.append(face)\n",
    "    \n",
    "    return cropped_faces\n"
   ]
  },
  {
   "cell_type": "code",
   "execution_count": 20,
   "metadata": {},
   "outputs": [],
   "source": [
    "mtcnn = MTCNN(image_size=224, margin=20)"
   ]
  },
  {
   "cell_type": "code",
   "execution_count": null,
   "metadata": {},
   "outputs": [],
   "source": []
  },
  {
   "cell_type": "code",
   "execution_count": null,
   "metadata": {},
   "outputs": [],
   "source": []
  },
  {
   "cell_type": "code",
   "execution_count": null,
   "metadata": {},
   "outputs": [],
   "source": []
  },
  {
   "cell_type": "code",
   "execution_count": null,
   "metadata": {},
   "outputs": [],
   "source": []
  }
 ],
 "metadata": {
  "kernelspec": {
   "display_name": "env",
   "language": "python",
   "name": "python3"
  },
  "language_info": {
   "codemirror_mode": {
    "name": "ipython",
    "version": 3
   },
   "file_extension": ".py",
   "mimetype": "text/x-python",
   "name": "python",
   "nbconvert_exporter": "python",
   "pygments_lexer": "ipython3",
   "version": "3.12.0"
  }
 },
 "nbformat": 4,
 "nbformat_minor": 2
}
