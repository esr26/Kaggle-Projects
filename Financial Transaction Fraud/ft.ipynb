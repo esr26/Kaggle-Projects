{
 "cells": [
  {
   "cell_type": "code",
   "execution_count": 1,
   "metadata": {},
   "outputs": [],
   "source": [
    "import pandas as pd\n",
    "import seaborn as sns\n",
    "import json"
   ]
  },
  {
   "cell_type": "code",
   "execution_count": 2,
   "metadata": {},
   "outputs": [],
   "source": [
    "cards_df = pd.read_csv('cards_data.csv')\n",
    "trans_df = pd.read_csv('transactions_data.csv')\n",
    "users_df = pd.read_csv('users_data.csv')"
   ]
  },
  {
   "cell_type": "code",
   "execution_count": 3,
   "metadata": {},
   "outputs": [],
   "source": [
    "with open('mcc_codes.json', 'r') as f:\n",
    "    mcc_data = json.load(f)\n",
    "\n",
    "with open('train_fraud_labels.json', 'r') as f:\n",
    "    fraud_labels = json.load(f)\n",
    "\n",
    "label_data = fraud_labels[\"target\"]"
   ]
  },
  {
   "cell_type": "code",
   "execution_count": null,
   "metadata": {},
   "outputs": [],
   "source": []
  },
  {
   "cell_type": "code",
   "execution_count": 4,
   "metadata": {},
   "outputs": [
    {
     "name": "stdout",
     "output_type": "stream",
     "text": [
      "User Columns: Index(['id', 'current_age', 'retirement_age', 'birth_year', 'birth_month',\n",
      "       'gender', 'address', 'latitude', 'longitude', 'per_capita_income',\n",
      "       'yearly_income', 'total_debt', 'credit_score', 'num_credit_cards'],\n",
      "      dtype='object')\n",
      "----------------------------------------------------------------------------------------------------\n",
      "Cards Columns: Index(['id', 'client_id', 'card_brand', 'card_type', 'card_number', 'expires',\n",
      "       'cvv', 'has_chip', 'num_cards_issued', 'credit_limit', 'acct_open_date',\n",
      "       'year_pin_last_changed', 'card_on_dark_web'],\n",
      "      dtype='object')\n",
      "----------------------------------------------------------------------------------------------------\n",
      "Transactions Columns: Index(['id', 'date', 'client_id', 'card_id', 'amount', 'use_chip',\n",
      "       'merchant_id', 'merchant_city', 'merchant_state', 'zip', 'mcc',\n",
      "       'errors'],\n",
      "      dtype='object')\n",
      "----------------------------------------------------------------------------------------------------\n"
     ]
    }
   ],
   "source": [
    "print('User Columns:', users_df.columns)\n",
    "print('-'*100)\n",
    "print('Cards Columns:', cards_df.columns)\n",
    "print('-'*100)\n",
    "print('Transactions Columns:', trans_df.columns)\n",
    "print('-'*100)"
   ]
  },
  {
   "cell_type": "code",
   "execution_count": 5,
   "metadata": {},
   "outputs": [
    {
     "name": "stdout",
     "output_type": "stream",
     "text": [
      "User Data Types: id                     int64\n",
      "current_age            int64\n",
      "retirement_age         int64\n",
      "birth_year             int64\n",
      "birth_month            int64\n",
      "gender                object\n",
      "address               object\n",
      "latitude             float64\n",
      "longitude            float64\n",
      "per_capita_income     object\n",
      "yearly_income         object\n",
      "total_debt            object\n",
      "credit_score           int64\n",
      "num_credit_cards       int64\n",
      "dtype: object\n",
      "----------------------------------------------------------------------------------------------------\n",
      "Cards Data Types: id                        int64\n",
      "client_id                 int64\n",
      "card_brand               object\n",
      "card_type                object\n",
      "card_number               int64\n",
      "expires                  object\n",
      "cvv                       int64\n",
      "has_chip                 object\n",
      "num_cards_issued          int64\n",
      "credit_limit             object\n",
      "acct_open_date           object\n",
      "year_pin_last_changed     int64\n",
      "card_on_dark_web         object\n",
      "dtype: object\n",
      "----------------------------------------------------------------------------------------------------\n",
      "Transactions Data Types: id                  int64\n",
      "date               object\n",
      "client_id           int64\n",
      "card_id             int64\n",
      "amount             object\n",
      "use_chip           object\n",
      "merchant_id         int64\n",
      "merchant_city      object\n",
      "merchant_state     object\n",
      "zip               float64\n",
      "mcc                 int64\n",
      "errors             object\n",
      "dtype: object\n",
      "----------------------------------------------------------------------------------------------------\n"
     ]
    }
   ],
   "source": [
    "print('User Data Types:', users_df.dtypes)\n",
    "print('-'*100)\n",
    "print('Cards Data Types:', cards_df.dtypes)\n",
    "print('-'*100)\n",
    "print('Transactions Data Types:', trans_df.dtypes)\n",
    "print('-'*100)"
   ]
  },
  {
   "cell_type": "code",
   "execution_count": 6,
   "metadata": {},
   "outputs": [
    {
     "name": "stdout",
     "output_type": "stream",
     "text": [
      "User Null Values: id                   0\n",
      "current_age          0\n",
      "retirement_age       0\n",
      "birth_year           0\n",
      "birth_month          0\n",
      "gender               0\n",
      "address              0\n",
      "latitude             0\n",
      "longitude            0\n",
      "per_capita_income    0\n",
      "yearly_income        0\n",
      "total_debt           0\n",
      "credit_score         0\n",
      "num_credit_cards     0\n",
      "dtype: int64\n",
      "----------------------------------------------------------------------------------------------------\n",
      "Cards Null Values: id                       0\n",
      "client_id                0\n",
      "card_brand               0\n",
      "card_type                0\n",
      "card_number              0\n",
      "expires                  0\n",
      "cvv                      0\n",
      "has_chip                 0\n",
      "num_cards_issued         0\n",
      "credit_limit             0\n",
      "acct_open_date           0\n",
      "year_pin_last_changed    0\n",
      "card_on_dark_web         0\n",
      "dtype: int64\n",
      "----------------------------------------------------------------------------------------------------\n",
      "Transactions Null Values: id                       0\n",
      "date                     0\n",
      "client_id                0\n",
      "card_id                  0\n",
      "amount                   0\n",
      "use_chip                 0\n",
      "merchant_id              0\n",
      "merchant_city            0\n",
      "merchant_state     1563700\n",
      "zip                1652706\n",
      "mcc                      0\n",
      "errors            13094522\n",
      "dtype: int64\n",
      "----------------------------------------------------------------------------------------------------\n"
     ]
    }
   ],
   "source": [
    "print('User Null Values:', users_df.isna().sum())\n",
    "print('-'*100)\n",
    "print('Cards Null Values:', cards_df.isna().sum())\n",
    "print('-'*100)\n",
    "print('Transactions Null Values:', trans_df.isna().sum())\n",
    "print('-'*100)"
   ]
  },
  {
   "cell_type": "code",
   "execution_count": null,
   "metadata": {},
   "outputs": [],
   "source": []
  },
  {
   "cell_type": "markdown",
   "metadata": {},
   "source": [
    "## Analysis on Transaction Data"
   ]
  },
  {
   "cell_type": "code",
   "execution_count": 7,
   "metadata": {},
   "outputs": [
    {
     "data": {
      "text/plain": [
       "array([nan, 'Technical Glitch', 'Bad Expiration', 'Bad Card Number',\n",
       "       'Insufficient Balance', 'Bad PIN', 'Bad CVV', 'Bad Zipcode',\n",
       "       'Insufficient Balance,Technical Glitch',\n",
       "       'Bad PIN,Insufficient Balance', 'Bad PIN,Technical Glitch',\n",
       "       'Bad Expiration,Technical Glitch',\n",
       "       'Bad Card Number,Bad Expiration',\n",
       "       'Bad Card Number,Insufficient Balance',\n",
       "       'Bad Expiration,Insufficient Balance', 'Bad Card Number,Bad CVV',\n",
       "       'Bad CVV,Technical Glitch', 'Bad Expiration,Bad CVV',\n",
       "       'Bad CVV,Insufficient Balance', 'Bad Card Number,Technical Glitch',\n",
       "       'Bad Zipcode,Insufficient Balance',\n",
       "       'Bad Card Number,Bad Expiration,Insufficient Balance',\n",
       "       'Bad Zipcode,Technical Glitch'], dtype=object)"
      ]
     },
     "execution_count": 7,
     "metadata": {},
     "output_type": "execute_result"
    }
   ],
   "source": [
    "trans_df['errors'].unique()"
   ]
  },
  {
   "cell_type": "code",
   "execution_count": 9,
   "metadata": {},
   "outputs": [
    {
     "data": {
      "text/plain": [
       "errors\n",
       "Insufficient Balance                                   130902\n",
       "Bad PIN                                                 32119\n",
       "Technical Glitch                                        26271\n",
       "Bad Card Number                                          7767\n",
       "Bad Expiration                                           6161\n",
       "Bad CVV                                                  6106\n",
       "Bad Zipcode                                              1126\n",
       "Bad PIN,Insufficient Balance                              293\n",
       "Insufficient Balance,Technical Glitch                     243\n",
       "Bad Card Number,Insufficient Balance                       71\n",
       "Bad PIN,Technical Glitch                                   70\n",
       "Bad CVV,Insufficient Balance                               57\n",
       "Bad Expiration,Insufficient Balance                        47\n",
       "Bad Card Number,Bad CVV                                    38\n",
       "Bad Card Number,Bad Expiration                             33\n",
       "Bad Expiration,Bad CVV                                     32\n",
       "Bad Expiration,Technical Glitch                            21\n",
       "Bad Card Number,Technical Glitch                           15\n",
       "Bad CVV,Technical Glitch                                    8\n",
       "Bad Zipcode,Insufficient Balance                            7\n",
       "Bad Zipcode,Technical Glitch                                5\n",
       "Bad Card Number,Bad Expiration,Insufficient Balance         1\n",
       "Name: count, dtype: int64"
      ]
     },
     "execution_count": 9,
     "metadata": {},
     "output_type": "execute_result"
    }
   ],
   "source": [
    "trans_df['errors'].value_counts()"
   ]
  },
  {
   "cell_type": "code",
   "execution_count": 10,
   "metadata": {},
   "outputs": [
    {
     "name": "stdout",
     "output_type": "stream",
     "text": [
      "Null percentage in errors column: 98.41%\n"
     ]
    }
   ],
   "source": [
    "print('Null percentage in errors column:', str(round((trans_df['errors'].isna().sum()/trans_df.shape[0])*100,2))+'%')"
   ]
  },
  {
   "cell_type": "markdown",
   "metadata": {},
   "source": [
    "- We have 98.4% of null values in the 'errors' column\n",
    "- We can utilize existing error messages and create new columns based on assumptions"
   ]
  },
  {
   "cell_type": "code",
   "execution_count": null,
   "metadata": {},
   "outputs": [],
   "source": []
  },
  {
   "cell_type": "code",
   "execution_count": null,
   "metadata": {},
   "outputs": [
    {
     "data": {
      "text/html": [
       "<div>\n",
       "<style scoped>\n",
       "    .dataframe tbody tr th:only-of-type {\n",
       "        vertical-align: middle;\n",
       "    }\n",
       "\n",
       "    .dataframe tbody tr th {\n",
       "        vertical-align: top;\n",
       "    }\n",
       "\n",
       "    .dataframe thead th {\n",
       "        text-align: right;\n",
       "    }\n",
       "</style>\n",
       "<table border=\"1\" class=\"dataframe\">\n",
       "  <thead>\n",
       "    <tr style=\"text-align: right;\">\n",
       "      <th></th>\n",
       "      <th>id</th>\n",
       "      <th>date</th>\n",
       "      <th>client_id</th>\n",
       "      <th>card_id</th>\n",
       "      <th>amount</th>\n",
       "      <th>use_chip</th>\n",
       "      <th>merchant_id</th>\n",
       "      <th>merchant_city</th>\n",
       "      <th>merchant_state</th>\n",
       "      <th>zip</th>\n",
       "      <th>mcc</th>\n",
       "      <th>errors</th>\n",
       "    </tr>\n",
       "  </thead>\n",
       "  <tbody>\n",
       "    <tr>\n",
       "      <th>0</th>\n",
       "      <td>7475327</td>\n",
       "      <td>2010-01-01 00:01:00</td>\n",
       "      <td>1556</td>\n",
       "      <td>2972</td>\n",
       "      <td>$-77.00</td>\n",
       "      <td>Swipe Transaction</td>\n",
       "      <td>59935</td>\n",
       "      <td>Beulah</td>\n",
       "      <td>ND</td>\n",
       "      <td>58523.0</td>\n",
       "      <td>5499</td>\n",
       "      <td>NaN</td>\n",
       "    </tr>\n",
       "    <tr>\n",
       "      <th>1</th>\n",
       "      <td>7475328</td>\n",
       "      <td>2010-01-01 00:02:00</td>\n",
       "      <td>561</td>\n",
       "      <td>4575</td>\n",
       "      <td>$14.57</td>\n",
       "      <td>Swipe Transaction</td>\n",
       "      <td>67570</td>\n",
       "      <td>Bettendorf</td>\n",
       "      <td>IA</td>\n",
       "      <td>52722.0</td>\n",
       "      <td>5311</td>\n",
       "      <td>NaN</td>\n",
       "    </tr>\n",
       "    <tr>\n",
       "      <th>2</th>\n",
       "      <td>7475329</td>\n",
       "      <td>2010-01-01 00:02:00</td>\n",
       "      <td>1129</td>\n",
       "      <td>102</td>\n",
       "      <td>$80.00</td>\n",
       "      <td>Swipe Transaction</td>\n",
       "      <td>27092</td>\n",
       "      <td>Vista</td>\n",
       "      <td>CA</td>\n",
       "      <td>92084.0</td>\n",
       "      <td>4829</td>\n",
       "      <td>NaN</td>\n",
       "    </tr>\n",
       "    <tr>\n",
       "      <th>3</th>\n",
       "      <td>7475331</td>\n",
       "      <td>2010-01-01 00:05:00</td>\n",
       "      <td>430</td>\n",
       "      <td>2860</td>\n",
       "      <td>$200.00</td>\n",
       "      <td>Swipe Transaction</td>\n",
       "      <td>27092</td>\n",
       "      <td>Crown Point</td>\n",
       "      <td>IN</td>\n",
       "      <td>46307.0</td>\n",
       "      <td>4829</td>\n",
       "      <td>NaN</td>\n",
       "    </tr>\n",
       "    <tr>\n",
       "      <th>4</th>\n",
       "      <td>7475332</td>\n",
       "      <td>2010-01-01 00:06:00</td>\n",
       "      <td>848</td>\n",
       "      <td>3915</td>\n",
       "      <td>$46.41</td>\n",
       "      <td>Swipe Transaction</td>\n",
       "      <td>13051</td>\n",
       "      <td>Harwood</td>\n",
       "      <td>MD</td>\n",
       "      <td>20776.0</td>\n",
       "      <td>5813</td>\n",
       "      <td>NaN</td>\n",
       "    </tr>\n",
       "  </tbody>\n",
       "</table>\n",
       "</div>"
      ],
      "text/plain": [
       "        id                 date  client_id  card_id   amount  \\\n",
       "0  7475327  2010-01-01 00:01:00       1556     2972  $-77.00   \n",
       "1  7475328  2010-01-01 00:02:00        561     4575   $14.57   \n",
       "2  7475329  2010-01-01 00:02:00       1129      102   $80.00   \n",
       "3  7475331  2010-01-01 00:05:00        430     2860  $200.00   \n",
       "4  7475332  2010-01-01 00:06:00        848     3915   $46.41   \n",
       "\n",
       "            use_chip  merchant_id merchant_city merchant_state      zip   mcc  \\\n",
       "0  Swipe Transaction        59935        Beulah             ND  58523.0  5499   \n",
       "1  Swipe Transaction        67570    Bettendorf             IA  52722.0  5311   \n",
       "2  Swipe Transaction        27092         Vista             CA  92084.0  4829   \n",
       "3  Swipe Transaction        27092   Crown Point             IN  46307.0  4829   \n",
       "4  Swipe Transaction        13051       Harwood             MD  20776.0  5813   \n",
       "\n",
       "  errors  \n",
       "0    NaN  \n",
       "1    NaN  \n",
       "2    NaN  \n",
       "3    NaN  \n",
       "4    NaN  "
      ]
     },
     "execution_count": 30,
     "metadata": {},
     "output_type": "execute_result"
    }
   ],
   "source": []
  },
  {
   "cell_type": "code",
   "execution_count": 11,
   "metadata": {},
   "outputs": [
    {
     "data": {
      "text/html": [
       "<div>\n",
       "<style scoped>\n",
       "    .dataframe tbody tr th:only-of-type {\n",
       "        vertical-align: middle;\n",
       "    }\n",
       "\n",
       "    .dataframe tbody tr th {\n",
       "        vertical-align: top;\n",
       "    }\n",
       "\n",
       "    .dataframe thead th {\n",
       "        text-align: right;\n",
       "    }\n",
       "</style>\n",
       "<table border=\"1\" class=\"dataframe\">\n",
       "  <thead>\n",
       "    <tr style=\"text-align: right;\">\n",
       "      <th></th>\n",
       "      <th>id</th>\n",
       "      <th>date</th>\n",
       "      <th>client_id</th>\n",
       "      <th>card_id</th>\n",
       "      <th>amount</th>\n",
       "      <th>use_chip</th>\n",
       "      <th>merchant_id</th>\n",
       "      <th>merchant_city</th>\n",
       "      <th>merchant_state</th>\n",
       "      <th>zip</th>\n",
       "      <th>mcc</th>\n",
       "      <th>errors</th>\n",
       "      <th>mcc_name</th>\n",
       "      <th>fraud_label</th>\n",
       "    </tr>\n",
       "  </thead>\n",
       "  <tbody>\n",
       "    <tr>\n",
       "      <th>0</th>\n",
       "      <td>7475327</td>\n",
       "      <td>2010-01-01 00:01:00</td>\n",
       "      <td>1556</td>\n",
       "      <td>2972</td>\n",
       "      <td>$-77.00</td>\n",
       "      <td>Swipe Transaction</td>\n",
       "      <td>59935</td>\n",
       "      <td>Beulah</td>\n",
       "      <td>ND</td>\n",
       "      <td>58523.0</td>\n",
       "      <td>5499</td>\n",
       "      <td>NaN</td>\n",
       "      <td>Miscellaneous Food Stores</td>\n",
       "      <td>No</td>\n",
       "    </tr>\n",
       "    <tr>\n",
       "      <th>1</th>\n",
       "      <td>7475328</td>\n",
       "      <td>2010-01-01 00:02:00</td>\n",
       "      <td>561</td>\n",
       "      <td>4575</td>\n",
       "      <td>$14.57</td>\n",
       "      <td>Swipe Transaction</td>\n",
       "      <td>67570</td>\n",
       "      <td>Bettendorf</td>\n",
       "      <td>IA</td>\n",
       "      <td>52722.0</td>\n",
       "      <td>5311</td>\n",
       "      <td>NaN</td>\n",
       "      <td>Department Stores</td>\n",
       "      <td>No</td>\n",
       "    </tr>\n",
       "    <tr>\n",
       "      <th>2</th>\n",
       "      <td>7475329</td>\n",
       "      <td>2010-01-01 00:02:00</td>\n",
       "      <td>1129</td>\n",
       "      <td>102</td>\n",
       "      <td>$80.00</td>\n",
       "      <td>Swipe Transaction</td>\n",
       "      <td>27092</td>\n",
       "      <td>Vista</td>\n",
       "      <td>CA</td>\n",
       "      <td>92084.0</td>\n",
       "      <td>4829</td>\n",
       "      <td>NaN</td>\n",
       "      <td>Money Transfer</td>\n",
       "      <td>No</td>\n",
       "    </tr>\n",
       "    <tr>\n",
       "      <th>3</th>\n",
       "      <td>7475331</td>\n",
       "      <td>2010-01-01 00:05:00</td>\n",
       "      <td>430</td>\n",
       "      <td>2860</td>\n",
       "      <td>$200.00</td>\n",
       "      <td>Swipe Transaction</td>\n",
       "      <td>27092</td>\n",
       "      <td>Crown Point</td>\n",
       "      <td>IN</td>\n",
       "      <td>46307.0</td>\n",
       "      <td>4829</td>\n",
       "      <td>NaN</td>\n",
       "      <td>Money Transfer</td>\n",
       "      <td>NaN</td>\n",
       "    </tr>\n",
       "    <tr>\n",
       "      <th>4</th>\n",
       "      <td>7475332</td>\n",
       "      <td>2010-01-01 00:06:00</td>\n",
       "      <td>848</td>\n",
       "      <td>3915</td>\n",
       "      <td>$46.41</td>\n",
       "      <td>Swipe Transaction</td>\n",
       "      <td>13051</td>\n",
       "      <td>Harwood</td>\n",
       "      <td>MD</td>\n",
       "      <td>20776.0</td>\n",
       "      <td>5813</td>\n",
       "      <td>NaN</td>\n",
       "      <td>Drinking Places (Alcoholic Beverages)</td>\n",
       "      <td>No</td>\n",
       "    </tr>\n",
       "  </tbody>\n",
       "</table>\n",
       "</div>"
      ],
      "text/plain": [
       "        id                 date  client_id  card_id   amount  \\\n",
       "0  7475327  2010-01-01 00:01:00       1556     2972  $-77.00   \n",
       "1  7475328  2010-01-01 00:02:00        561     4575   $14.57   \n",
       "2  7475329  2010-01-01 00:02:00       1129      102   $80.00   \n",
       "3  7475331  2010-01-01 00:05:00        430     2860  $200.00   \n",
       "4  7475332  2010-01-01 00:06:00        848     3915   $46.41   \n",
       "\n",
       "            use_chip  merchant_id merchant_city merchant_state      zip   mcc  \\\n",
       "0  Swipe Transaction        59935        Beulah             ND  58523.0  5499   \n",
       "1  Swipe Transaction        67570    Bettendorf             IA  52722.0  5311   \n",
       "2  Swipe Transaction        27092         Vista             CA  92084.0  4829   \n",
       "3  Swipe Transaction        27092   Crown Point             IN  46307.0  4829   \n",
       "4  Swipe Transaction        13051       Harwood             MD  20776.0  5813   \n",
       "\n",
       "  errors                               mcc_name fraud_label  \n",
       "0    NaN              Miscellaneous Food Stores          No  \n",
       "1    NaN                      Department Stores          No  \n",
       "2    NaN                         Money Transfer          No  \n",
       "3    NaN                         Money Transfer         NaN  \n",
       "4    NaN  Drinking Places (Alcoholic Beverages)          No  "
      ]
     },
     "execution_count": 11,
     "metadata": {},
     "output_type": "execute_result"
    }
   ],
   "source": [
    "trans_df['mcc'] = trans_df['mcc'].astype(str)\n",
    "trans_df['mcc_name'] = trans_df['mcc'].map(mcc_data)\n",
    "\n",
    "trans_df['id'] = trans_df['id'].astype(str)\n",
    "trans_df['fraud_label'] = trans_df['id'].map(label_data)\n",
    "trans_df.head()"
   ]
  },
  {
   "cell_type": "code",
   "execution_count": null,
   "metadata": {},
   "outputs": [],
   "source": [
    "df['']"
   ]
  },
  {
   "cell_type": "code",
   "execution_count": 13,
   "metadata": {},
   "outputs": [
    {
     "data": {
      "text/plain": [
       "4390952"
      ]
     },
     "execution_count": 13,
     "metadata": {},
     "output_type": "execute_result"
    }
   ],
   "source": [
    "trans_df['fraud_label'].isnull().sum()"
   ]
  },
  {
   "cell_type": "code",
   "execution_count": null,
   "metadata": {},
   "outputs": [],
   "source": [
    "trans_df['use_chip']"
   ]
  }
 ],
 "metadata": {
  "kernelspec": {
   "display_name": "myenv",
   "language": "python",
   "name": "python3"
  },
  "language_info": {
   "codemirror_mode": {
    "name": "ipython",
    "version": 3
   },
   "file_extension": ".py",
   "mimetype": "text/x-python",
   "name": "python",
   "nbconvert_exporter": "python",
   "pygments_lexer": "ipython3",
   "version": "3.12.9"
  }
 },
 "nbformat": 4,
 "nbformat_minor": 2
}
